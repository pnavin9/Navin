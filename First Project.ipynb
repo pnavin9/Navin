{
    "cells": [
        {
            "metadata": {},
            "cell_type": "markdown",
            "source": "<h1> My Jupyter Notebook on IBM Watson Studio.</h1>"
        },
        {
            "metadata": {},
            "cell_type": "markdown",
            "source": "<b> Navin Patwari </b><br>\nCurrent Occupation : Student<br>\nDesired Occupation : Data Scientist / Data Engineer"
        },
        {
            "metadata": {},
            "cell_type": "markdown",
            "source": "I am interested in data science beause I like playing with data and making predictions based on data sets</br> to improve users experience and at the same time reduce costs.\nAlso because of the wide applications of Data analysis it help me became a valuable asset to the society."
        },
        {
            "metadata": {},
            "cell_type": "markdown",
            "source": "<h3> This code is supposed to display the sum of digits you enter</h3>"
        },
        {
            "metadata": {},
            "cell_type": "code",
            "source": "n = int(input())\nd=0\nwhile(n!=0):\n    d+=n%10\n    n//=10\nprint(d)",
            "execution_count": 6,
            "outputs": [
                {
                    "output_type": "stream",
                    "name": "stdout",
                    "text": "123\n6\n"
                }
            ]
        },
        {
            "metadata": {},
            "cell_type": "markdown",
            "source": "<hr>\nInput the number you want to calculate sum of digit<br>\nThe program then does the following.</br>\n<ol>\n    <li>Modulo the number by 10</li>\n    <li>Add the number to the variable 'd'</li>\n    <li>display the result as 'd'</li>\n</ol>\n<hr>\n<br>Sample Exeution on input = 123<br>\n<table>\n    <tr> \n        <th> d </th>\n        <th> n </th>\n    </tr>\n    <tr>\n        <th> 3 </th>\n        <th> 12 </th>\n    </tr>\n    <tr>\n        <th> 5 </th>\n        <th> 1 </th>\n    </tr>\n    <tr>\n        <th> 6 </th>\n        <th> 0 </th>\n    </tr>\n    \n\n    "
        },
        {
            "metadata": {},
            "cell_type": "code",
            "source": "",
            "execution_count": null,
            "outputs": []
        }
    ],
    "metadata": {
        "kernelspec": {
            "name": "python3",
            "display_name": "Python 3.9",
            "language": "python"
        },
        "language_info": {
            "name": "python",
            "version": "3.9.12",
            "mimetype": "text/x-python",
            "codemirror_mode": {
                "name": "ipython",
                "version": 3
            },
            "pygments_lexer": "ipython3",
            "nbconvert_exporter": "python",
            "file_extension": ".py"
        }
    },
    "nbformat": 4,
    "nbformat_minor": 1
}