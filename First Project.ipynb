{
    "cells": [
        {
            "cell_type": "markdown",
            "metadata": {},
            "source": "<h1> My Jupyter Notebook on IBM Watson Studio.</h1>"
        },
        {
            "cell_type": "markdown",
            "metadata": {},
            "source": "<b> Navin Patwari </b><br>\nCurrent Occupation : Student<br>\nDesired Occupation : Data Scientist / Data Engineer"
        },
        {
            "cell_type": "markdown",
            "metadata": {},
            "source": "I am interested in data science beause I like playing with data and making predictions based on data sets</br> to improve users experience and at the same time reduce costs.\nAlso because of the wide applications of Data analysis it help me became a valuable asset to the society."
        },
        {
            "cell_type": "markdown",
            "metadata": {},
            "source": "<h3> This code is supposed to display the sum of digits you enter</h3>"
        },
        {
            "cell_type": "code",
            "execution_count": 6,
            "metadata": {},
            "outputs": [
                {
                    "name": "stdout",
                    "output_type": "stream",
                    "text": "123\n6\n"
                }
            ],
            "source": "n = int(input())\nd=0\nwhile(n!=0):\n    d+=n%10\n    n//=10\nprint(d)"
        },
        {
            "cell_type": "markdown",
            "metadata": {},
            "source": "<hr>\nInput the number you want to calculate sum of digit<br>\nThe program then does the following.</br>\n<ol>\n    <li>Modulo the number by 10</li>\n    <li>Add the number to the variable 'd'</li>\n    <li>display the result as 'd'</li>\n</ol>\n<hr>\n<br>Sample Exeution on input = 123<br>\n<table>\n    <tr> \n        <th> d </th>\n        <th> n </th>\n    </tr>\n    <tr>\n        <th> 3 </th>\n        <th> 12 </th>\n    </tr>\n    <tr>\n        <th>  </th>\n        <th> 1 </th>\n        <th> 0 </th>\n    </tr>\n    \n\n    "
        },
        {
            "cell_type": "code",
            "execution_count": null,
            "metadata": {},
            "outputs": [],
            "source": ""
        }
    ],
    "metadata": {
        "kernelspec": {
            "display_name": "Python 3.9",
            "language": "python",
            "name": "python3"
        },
        "language_info": {
            "codemirror_mode": {
                "name": "ipython",
                "version": 3
            },
            "file_extension": ".py",
            "mimetype": "text/x-python",
            "name": "python",
            "nbconvert_exporter": "python",
            "pygments_lexer": "ipython3",
            "version": "3.9.12"
        }
    },
    "nbformat": 4,
    "nbformat_minor": 1
}